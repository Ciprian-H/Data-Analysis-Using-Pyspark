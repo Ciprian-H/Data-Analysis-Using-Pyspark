{
 "cells": [
  {
   "cell_type": "markdown",
   "metadata": {
    "colab_type": "text",
    "id": "jPyDpDqvZuLo"
   },
   "source": [
    "# **Data Analysis Using Pyspark**"
   ]
  },
  {
   "cell_type": "markdown",
   "metadata": {
    "colab_type": "text",
    "id": "F2YNhXuUwGNl"
   },
   "source": [
    "### Let's mount the google drive "
   ]
  },
  {
   "cell_type": "code",
   "execution_count": 1,
   "metadata": {
    "colab": {},
    "colab_type": "code",
    "id": "MmQC7J5cvkzE"
   },
   "outputs": [],
   "source": [
    "# from google.colab import drive\n",
    "# drive.mount('/content/drive')"
   ]
  },
  {
   "cell_type": "markdown",
   "metadata": {
    "colab_type": "text",
    "id": "cs9EInKyWicZ"
   },
   "source": [
    "# Task 1: Introduction\n",
    "Understand the purpose of the project, the datasets that will be used, and the things we are going to learn at the end of this project.\n",
    "\n",
    "Installing pyspark module"
   ]
  },
  {
   "cell_type": "code",
   "execution_count": 2,
   "metadata": {
    "colab": {},
    "colab_type": "code",
    "id": "LJq2nzUKWujx"
   },
   "outputs": [],
   "source": [
    "# !pip install pyspark"
   ]
  },
  {
   "cell_type": "markdown",
   "metadata": {
    "colab_type": "text",
    "id": "dVNAlw2jWiWb"
   },
   "source": [
    "Importing the modules "
   ]
  },
  {
   "cell_type": "code",
   "execution_count": 3,
   "metadata": {
    "colab": {},
    "colab_type": "code",
    "id": "gS3YIWJiW7I3"
   },
   "outputs": [],
   "source": [
    "from pyspark.sql import SparkSession\n",
    "from pyspark.sql.functions import count, desc , col, max, struct\n",
    "import matplotlib.pyplot as plts"
   ]
  },
  {
   "cell_type": "markdown",
   "metadata": {
    "colab_type": "text",
    "id": "RKuIUYLwSkNP"
   },
   "source": [
    "creating spark session"
   ]
  },
  {
   "cell_type": "code",
   "execution_count": 4,
   "metadata": {
    "cellView": "both",
    "colab": {},
    "colab_type": "code",
    "id": "XXSZBvRgSnCN"
   },
   "outputs": [],
   "source": [
    "spark = SparkSession.builder.appName('spark_app').getOrCreate()"
   ]
  },
  {
   "cell_type": "markdown",
   "metadata": {
    "colab_type": "text",
    "id": "vv_SKqr8T9mT"
   },
   "source": [
    "# Task 2: Importing first csv file of the dataset \n",
    "Import listening.csv file, which contains data related to different users listened to different songs and prepare it for the analysis by dropping columns and deleting null values.\n",
    "\n",
    "importing the *Listenings.csv* file: "
   ]
  },
  {
   "cell_type": "code",
   "execution_count": 5,
   "metadata": {
    "colab": {},
    "colab_type": "code",
    "id": "gK22lJDRTuKY"
   },
   "outputs": [],
   "source": [
    "listening_csv_path = r'C:\\Users\\hancu\\OneDrive - Nokia\\Trainings TBD\\Data Analysis Using Pyspark\\listenings.csv'\n",
    "listening_df = spark.read.format('csv').option('inferSchema', True).option('header', True).load(listening_csv_path)"
   ]
  },
  {
   "cell_type": "markdown",
   "metadata": {
    "colab_type": "text",
    "id": "s1i6KVshykdn"
   },
   "source": [
    "let's check the data:"
   ]
  },
  {
   "cell_type": "code",
   "execution_count": 6,
   "metadata": {
    "colab": {},
    "colab_type": "code",
    "id": "5Ji0zViUyjUE"
   },
   "outputs": [
    {
     "name": "stdout",
     "output_type": "stream",
     "text": [
      "+-----------+-------------+--------------------+---------------+--------------------+\n",
      "|    user_id|         date|               track|         artist|               album|\n",
      "+-----------+-------------+--------------------+---------------+--------------------+\n",
      "|000Silenced|1299680100000|           Price Tag|       Jessie J|         Who You Are|\n",
      "|000Silenced|1299679920000|Price Tag (Acoust...|       Jessie J|           Price Tag|\n",
      "|000Silenced|1299679440000|Be Mine! (Ballad ...|          Robyn|            Be Mine!|\n",
      "|000Silenced|1299679200000|            Acapella|          Kelis|            Acapella|\n",
      "|000Silenced|1299675660000|   I'm Not Invisible|      The Tease|   I'm Not Invisible|\n",
      "|000Silenced|1297511400000|Bounce (Feat NORE...|       MSTRKRFT|         Fist of God|\n",
      "|000Silenced|1294498440000|Don't Stop The Mu...|        Rihanna|Addicted 2 Bassli...|\n",
      "|000Silenced|1292438340000|               ObZen|      Meshuggah|               ObZen|\n",
      "|000Silenced|1292437740000|   Yama's Messengers|         Gojira|The Way of All Flesh|\n",
      "|000Silenced|1292436360000|On the Brink of E...|   Napalm Death|Time Waits For No...|\n",
      "|000Silenced|1292436360000|On the Brink of E...|   Napalm Death|Time Waits For No...|\n",
      "|000Silenced|1292435940000|        In Deference|   Napalm Death|      Smear Campaign|\n",
      "|000Silenced|1292434920000|      Post(?)organic|    Decapitated|Organic Hallucinosis|\n",
      "|000Silenced|1292434560000|        Mind Feeders|   Dom & Roland| No Strings Attached|\n",
      "|000Silenced|1292434320000|Necrosadistic War...|Cannibal Corpse|                Kill|\n",
      "|000Silenced|1292365560000|     Dance All Night|   Dom & Roland|          Chronology|\n",
      "|000Silenced|1292365260000|          Late Night|   Dom & Roland|          Chronology|\n",
      "|000Silenced|1292365020000|          Freak Seen|   Dom & Roland|          Chronology|\n",
      "|000Silenced|1292364720000|Paradrenasite (Hi...|   Dom & Roland|          Chronology|\n",
      "|000Silenced|1292364300000|               Rhino|   Dom & Roland|          Chronology|\n",
      "+-----------+-------------+--------------------+---------------+--------------------+\n",
      "only showing top 20 rows\n",
      "\n"
     ]
    }
   ],
   "source": [
    "listening_df.show()"
   ]
  },
  {
   "cell_type": "markdown",
   "metadata": {
    "colab_type": "text",
    "id": "HS6wd2d_woNC"
   },
   "source": [
    "let's delete useless columns:"
   ]
  },
  {
   "cell_type": "code",
   "execution_count": 7,
   "metadata": {
    "colab": {},
    "colab_type": "code",
    "id": "pIMzBAglwtNP"
   },
   "outputs": [],
   "source": [
    "listening_df = listening_df.drop('date')"
   ]
  },
  {
   "cell_type": "markdown",
   "metadata": {
    "colab_type": "text",
    "id": "MwpJJeWa4qmn"
   },
   "source": [
    "drop the null rows:"
   ]
  },
  {
   "cell_type": "code",
   "execution_count": 8,
   "metadata": {
    "colab": {},
    "colab_type": "code",
    "id": "Botf6-Vb4uqs"
   },
   "outputs": [],
   "source": [
    "listening_df = listening_df.na.drop()"
   ]
  },
  {
   "cell_type": "markdown",
   "metadata": {
    "colab_type": "text",
    "id": "tTN6jr3K4xkF"
   },
   "source": [
    "let's check the dataset again:"
   ]
  },
  {
   "cell_type": "code",
   "execution_count": 9,
   "metadata": {
    "colab": {},
    "colab_type": "code",
    "id": "JDp_rdEY40u3"
   },
   "outputs": [
    {
     "name": "stdout",
     "output_type": "stream",
     "text": [
      "+-----------+--------------------+---------------+--------------------+\n",
      "|    user_id|               track|         artist|               album|\n",
      "+-----------+--------------------+---------------+--------------------+\n",
      "|000Silenced|           Price Tag|       Jessie J|         Who You Are|\n",
      "|000Silenced|Price Tag (Acoust...|       Jessie J|           Price Tag|\n",
      "|000Silenced|Be Mine! (Ballad ...|          Robyn|            Be Mine!|\n",
      "|000Silenced|            Acapella|          Kelis|            Acapella|\n",
      "|000Silenced|   I'm Not Invisible|      The Tease|   I'm Not Invisible|\n",
      "|000Silenced|Bounce (Feat NORE...|       MSTRKRFT|         Fist of God|\n",
      "|000Silenced|Don't Stop The Mu...|        Rihanna|Addicted 2 Bassli...|\n",
      "|000Silenced|               ObZen|      Meshuggah|               ObZen|\n",
      "|000Silenced|   Yama's Messengers|         Gojira|The Way of All Flesh|\n",
      "|000Silenced|On the Brink of E...|   Napalm Death|Time Waits For No...|\n",
      "|000Silenced|On the Brink of E...|   Napalm Death|Time Waits For No...|\n",
      "|000Silenced|        In Deference|   Napalm Death|      Smear Campaign|\n",
      "|000Silenced|      Post(?)organic|    Decapitated|Organic Hallucinosis|\n",
      "|000Silenced|        Mind Feeders|   Dom & Roland| No Strings Attached|\n",
      "|000Silenced|Necrosadistic War...|Cannibal Corpse|                Kill|\n",
      "|000Silenced|     Dance All Night|   Dom & Roland|          Chronology|\n",
      "|000Silenced|          Late Night|   Dom & Roland|          Chronology|\n",
      "|000Silenced|          Freak Seen|   Dom & Roland|          Chronology|\n",
      "|000Silenced|Paradrenasite (Hi...|   Dom & Roland|          Chronology|\n",
      "|000Silenced|               Rhino|   Dom & Roland|          Chronology|\n",
      "+-----------+--------------------+---------------+--------------------+\n",
      "only showing top 20 rows\n",
      "\n"
     ]
    }
   ],
   "source": [
    "listening_df.show()"
   ]
  },
  {
   "cell_type": "markdown",
   "metadata": {
    "colab_type": "text",
    "id": "Z7nKCYoZltnv"
   },
   "source": [
    "let's see the schema: "
   ]
  },
  {
   "cell_type": "code",
   "execution_count": 10,
   "metadata": {
    "colab": {},
    "colab_type": "code",
    "id": "qVg1jt1OyWdh"
   },
   "outputs": [
    {
     "name": "stdout",
     "output_type": "stream",
     "text": [
      "root\n",
      " |-- user_id: string (nullable = true)\n",
      " |-- track: string (nullable = true)\n",
      " |-- artist: string (nullable = true)\n",
      " |-- album: string (nullable = true)\n",
      "\n"
     ]
    }
   ],
   "source": [
    "listening_df.printSchema()"
   ]
  },
  {
   "cell_type": "markdown",
   "metadata": {
    "colab_type": "text",
    "id": "JMkQsQt2xSb5"
   },
   "source": [
    "let's see the shape of our dataframe: "
   ]
  },
  {
   "cell_type": "code",
   "execution_count": 11,
   "metadata": {
    "colab": {},
    "colab_type": "code",
    "id": "6POkV3YFmh6b"
   },
   "outputs": [
    {
     "name": "stdout",
     "output_type": "stream",
     "text": [
      "(13758905, 4)\n"
     ]
    }
   ],
   "source": [
    "shape = (listening_df.count(), len(listening_df.columns))\n",
    "print(shape)"
   ]
  },
  {
   "cell_type": "markdown",
   "metadata": {
    "colab_type": "text",
    "id": "XMD0DhFl2FEJ"
   },
   "source": [
    "# Task 3: Applying some Queries\n",
    "apply some queries to this dataset to extract useful information out of it. \n",
    " we will start from simple queries to more advanced ones.\n",
    "\n",
    "\n",
    "**Query #0:**\n",
    "select two columns: track and artist"
   ]
  },
  {
   "cell_type": "code",
   "execution_count": 12,
   "metadata": {
    "colab": {},
    "colab_type": "code",
    "id": "FZTdA5wn2TZy"
   },
   "outputs": [
    {
     "name": "stdout",
     "output_type": "stream",
     "text": [
      "+---------------+--------------------+\n",
      "|         artist|               track|\n",
      "+---------------+--------------------+\n",
      "|       Jessie J|           Price Tag|\n",
      "|       Jessie J|Price Tag (Acoust...|\n",
      "|          Robyn|Be Mine! (Ballad ...|\n",
      "|          Kelis|            Acapella|\n",
      "|      The Tease|   I'm Not Invisible|\n",
      "|       MSTRKRFT|Bounce (Feat NORE...|\n",
      "|        Rihanna|Don't Stop The Mu...|\n",
      "|      Meshuggah|               ObZen|\n",
      "|         Gojira|   Yama's Messengers|\n",
      "|   Napalm Death|On the Brink of E...|\n",
      "|   Napalm Death|On the Brink of E...|\n",
      "|   Napalm Death|        In Deference|\n",
      "|    Decapitated|      Post(?)organic|\n",
      "|   Dom & Roland|        Mind Feeders|\n",
      "|Cannibal Corpse|Necrosadistic War...|\n",
      "|   Dom & Roland|     Dance All Night|\n",
      "|   Dom & Roland|          Late Night|\n",
      "|   Dom & Roland|          Freak Seen|\n",
      "|   Dom & Roland|Paradrenasite (Hi...|\n",
      "|   Dom & Roland|               Rhino|\n",
      "+---------------+--------------------+\n",
      "only showing top 20 rows\n",
      "\n"
     ]
    }
   ],
   "source": [
    "q0 = listening_df.select('artist', 'track')\n",
    "q0.show()"
   ]
  },
  {
   "cell_type": "markdown",
   "metadata": {
    "colab_type": "text",
    "id": "QRcgXOFs2hjw"
   },
   "source": [
    "**Query #1**:\n",
    "\n",
    "Let's find all of the records of those users who have listened to ***Rihanna***"
   ]
  },
  {
   "cell_type": "code",
   "execution_count": 13,
   "metadata": {
    "colab": {},
    "colab_type": "code",
    "id": "ICyiTMVnppLw"
   },
   "outputs": [
    {
     "name": "stdout",
     "output_type": "stream",
     "text": [
      "+-----------+--------------------+-------+--------------------+\n",
      "|    user_id|               track| artist|               album|\n",
      "+-----------+--------------------+-------+--------------------+\n",
      "|000Silenced|Don't Stop The Mu...|Rihanna|Addicted 2 Bassli...|\n",
      "|000Silenced|           Disturbia|Rihanna|Good Girl Gone Ba...|\n",
      "|00williamsl|   Hatin On The Club|Rihanna|              Random|\n",
      "|00williamsl|   Hatin On The Club|Rihanna|              Random|\n",
      "|00williamsl|         Complicated|Rihanna|                Loud|\n",
      "|00williamsl|What's My Name (f...|Rihanna|                Loud|\n",
      "|00williamsl|Kanye West feat R...|Rihanna|                Loud|\n",
      "|    0502008|Only Girl (In the...|Rihanna|                Loud|\n",
      "|      0rdos|Pon De Replay (Re...|Rihanna|    Music of the Sun|\n",
      "|      0rdos|          Now I Know|Rihanna|    Music of the Sun|\n",
      "|      0rdos|There's a Thug in...|Rihanna|    Music of the Sun|\n",
      "|      0rdos|                Rush|Rihanna|    Music of the Sun|\n",
      "|      0rdos|              Let Me|Rihanna|    Music of the Sun|\n",
      "|      0rdos|    Music of the Sun|Rihanna|    Music of the Sun|\n",
      "|      0rdos|     Willing to Wait|Rihanna|    Music of the Sun|\n",
      "|      0rdos|       The Last Time|Rihanna|    Music of the Sun|\n",
      "|      0rdos|If It's Lovin' Th...|Rihanna|    Music of the Sun|\n",
      "|      0rdos|     Here I Go Again|Rihanna|    Music of the Sun|\n",
      "|      0rdos|       Pon de Replay|Rihanna|    Music of the Sun|\n",
      "|      0rdos|                 Cry|Rihanna|  Good Girl Gone Bad|\n",
      "+-----------+--------------------+-------+--------------------+\n",
      "only showing top 20 rows\n",
      "\n"
     ]
    }
   ],
   "source": [
    "q1 = listening_df.select('*').filter(listening_df.artist == 'Rihanna')\n",
    "q1.show()"
   ]
  },
  {
   "cell_type": "markdown",
   "metadata": {
    "colab_type": "text",
    "id": "I0IafeyvFU9O"
   },
   "source": [
    "**Query #2:**\n",
    "\n",
    "Let's find top 10 users who are fan of ***Rihanna***"
   ]
  },
  {
   "cell_type": "code",
   "execution_count": 14,
   "metadata": {
    "colab": {},
    "colab_type": "code",
    "id": "3-hM9kMm7JmI"
   },
   "outputs": [
    {
     "name": "stdout",
     "output_type": "stream",
     "text": [
      "+---------------+-----+\n",
      "|        user_id|count|\n",
      "+---------------+-----+\n",
      "|        thiessu|  179|\n",
      "|    eyessetkyle|  166|\n",
      "|           adxx|  164|\n",
      "|missnumberthree|  156|\n",
      "|helloiamnatalie|  128|\n",
      "|          nmjnb|  124|\n",
      "|        AndyyyA|  123|\n",
      "|     BIGBANG186|  121|\n",
      "|     mixedvibes|  120|\n",
      "|       AndyKitt|  115|\n",
      "+---------------+-----+\n",
      "\n"
     ]
    }
   ],
   "source": [
    "q2 = listening_df.select('user_id').filter(listening_df.artist == 'Rihanna').groupby('user_id').agg(count('user_id').alias('count')).orderBy(desc('count')).limit(10)\n",
    "q2.show()"
   ]
  },
  {
   "cell_type": "markdown",
   "metadata": {
    "colab_type": "text",
    "id": "hgAAl6aAcp41"
   },
   "source": [
    "**Query #3:**\n",
    "\n",
    "find top 10 famous tracks "
   ]
  },
  {
   "cell_type": "code",
   "execution_count": 15,
   "metadata": {
    "colab": {},
    "colab_type": "code",
    "id": "qlh3IUzfJ3_I"
   },
   "outputs": [
    {
     "name": "stdout",
     "output_type": "stream",
     "text": [
      "+--------------+----------------+-----+\n",
      "|        artist|           track|count|\n",
      "+--------------+----------------+-----+\n",
      "| Justin Bieber|           Sorry| 3381|\n",
      "|Arctic Monkeys|Do I Wanna Know?| 2865|\n",
      "|      Bon Iver|     Skinny Love| 2836|\n",
      "|          Zayn|      PILLOWTALK| 2701|\n",
      "|   The Killers|   Mr Brightside| 2690|\n",
      "|       Rihanna|            Work| 2646|\n",
      "|      Bastille|         Pompeii| 2606|\n",
      "|Mumford & Sons| Little Lion Man| 2520|\n",
      "|Mumford & Sons|        The Cave| 2485|\n",
      "| Justin Bieber|   Love Yourself| 2481|\n",
      "+--------------+----------------+-----+\n",
      "\n"
     ]
    }
   ],
   "source": [
    "q3 = listening_df.select('artist','track').groupby('artist','track').agg(count('*').alias('count')).orderBy(desc('count')).limit(10)\n",
    "q3.show()"
   ]
  },
  {
   "cell_type": "markdown",
   "metadata": {
    "colab_type": "text",
    "id": "HqhPhQvjeXt0"
   },
   "source": [
    "**Query #4:**\n",
    "\n",
    "find top 10 famous tracks of ***Rihanna*** "
   ]
  },
  {
   "cell_type": "code",
   "execution_count": 16,
   "metadata": {
    "colab": {},
    "colab_type": "code",
    "id": "D_npmdh1ec8y"
   },
   "outputs": [
    {
     "name": "stdout",
     "output_type": "stream",
     "text": [
      "+-------+--------------------+-----+\n",
      "| artist|               track|count|\n",
      "+-------+--------------------+-----+\n",
      "|Rihanna|                Work| 2646|\n",
      "|Rihanna|Only Girl (In the...| 1749|\n",
      "|Rihanna|We Found Love (fe...| 1575|\n",
      "|Rihanna|                 S&M| 1307|\n",
      "|Rihanna|            Rude Boy| 1303|\n",
      "|Rihanna|            Diamonds| 1224|\n",
      "|Rihanna|      Kiss it Better|  945|\n",
      "|Rihanna| Where Have You Been|  844|\n",
      "|Rihanna|Cheers (Drink to ...|  697|\n",
      "|Rihanna|           Needed Me|  679|\n",
      "+-------+--------------------+-----+\n",
      "\n"
     ]
    }
   ],
   "source": [
    "q4 = listening_df.select('artist','track').filter(listening_df.artist == 'Rihanna').groupby('artist','track').agg(count('*').alias('count')).orderBy(desc('count')).limit(10)\n",
    "q4.show()"
   ]
  },
  {
   "cell_type": "markdown",
   "metadata": {
    "colab_type": "text",
    "id": "E6pgcH0p1ZXo"
   },
   "source": [
    "**Query #5:**\n",
    "\n",
    "find top 10 famous albums "
   ]
  },
  {
   "cell_type": "code",
   "execution_count": 17,
   "metadata": {
    "colab": {},
    "colab_type": "code",
    "id": "c5YHm6yKenE7"
   },
   "outputs": [
    {
     "name": "stdout",
     "output_type": "stream",
     "text": [
      "+--------------------+--------------------+-----+\n",
      "|              artist|               album|count|\n",
      "+--------------------+--------------------+-----+\n",
      "|          Kanye West|   The Life Of Pablo|22310|\n",
      "|              The xx|                  xx|14195|\n",
      "|      Arctic Monkeys|                  AM|14090|\n",
      "|               alt-J|     An Awesome Wave|13635|\n",
      "|      Mumford & Sons|        Sigh No More|13543|\n",
      "|      Arctic Monkeys|Whatever People S...|12731|\n",
      "|            Bon Iver|            For Emma|11994|\n",
      "|              Grimes|          Art Angels|11655|\n",
      "|Florence + the Ma...|               Lungs|11362|\n",
      "|               Adele|                  21|11215|\n",
      "+--------------------+--------------------+-----+\n",
      "\n"
     ]
    }
   ],
   "source": [
    "q5 = listening_df.select('artist','album').groupby('artist','album').agg(count('*').alias('count')).orderBy(desc('count')).limit(10)\n",
    "q5.show()"
   ]
  },
  {
   "cell_type": "markdown",
   "metadata": {
    "colab_type": "text",
    "id": "YXev8HQ57bdq"
   },
   "source": [
    "# Task 4: Importing second csv file of the dataset \n",
    "Importing genre.csv file and merge it with listening.csv to answer more advanced queries\n",
    "\n",
    "\n",
    "importing the ***genre.csv*** file:"
   ]
  },
  {
   "cell_type": "code",
   "execution_count": 18,
   "metadata": {
    "colab": {},
    "colab_type": "code",
    "id": "tpXSrYfu14PB"
   },
   "outputs": [],
   "source": [
    "genre_csv_pat = r'C:\\Users\\hancu\\OneDrive - Nokia\\Trainings TBD\\Data Analysis Using Pyspark\\genre.csv'\n",
    "genre_df = spark.read.format('csv').option('inferSchema', True).option('header', True).load(genre_csv_pat)"
   ]
  },
  {
   "cell_type": "markdown",
   "metadata": {
    "colab_type": "text",
    "id": "aCHSo36W9RcP"
   },
   "source": [
    "let's check the data"
   ]
  },
  {
   "cell_type": "code",
   "execution_count": 19,
   "metadata": {
    "colab": {},
    "colab_type": "code",
    "id": "LJu4Ouz89O6_"
   },
   "outputs": [
    {
     "name": "stdout",
     "output_type": "stream",
     "text": [
      "+--------------------+-----+\n",
      "|              artist|genre|\n",
      "+--------------------+-----+\n",
      "|                Muse| rock|\n",
      "|             Nirvana| rock|\n",
      "|            Bon Jovi| rock|\n",
      "|          The Police| rock|\n",
      "|                Kiss| rock|\n",
      "|       Guns N' Roses| rock|\n",
      "|         Rusted Root| rock|\n",
      "|Katrina and the W...|  pop|\n",
      "|         The Beatles| rock|\n",
      "|        Hall & Oates|  pop|\n",
      "|        Otis Redding| soul|\n",
      "|         Marvin Gaye| soul|\n",
      "|     The Cranberries| rock|\n",
      "|            Survivor| rock|\n",
      "|       Fleetwood Mac|blues|\n",
      "|           Radiohead| rock|\n",
      "|                Toto| rock|\n",
      "|                  U2| rock|\n",
      "|Creedence Clearwa...| rock|\n",
      "|                 REM| rock|\n",
      "+--------------------+-----+\n",
      "only showing top 20 rows\n",
      "\n"
     ]
    }
   ],
   "source": [
    "genre_df.show()"
   ]
  },
  {
   "cell_type": "code",
   "execution_count": 20,
   "metadata": {},
   "outputs": [
    {
     "name": "stdout",
     "output_type": "stream",
     "text": [
      "+-----------+--------------------+---------------+--------------------+\n",
      "|    user_id|               track|         artist|               album|\n",
      "+-----------+--------------------+---------------+--------------------+\n",
      "|000Silenced|           Price Tag|       Jessie J|         Who You Are|\n",
      "|000Silenced|Price Tag (Acoust...|       Jessie J|           Price Tag|\n",
      "|000Silenced|Be Mine! (Ballad ...|          Robyn|            Be Mine!|\n",
      "|000Silenced|            Acapella|          Kelis|            Acapella|\n",
      "|000Silenced|   I'm Not Invisible|      The Tease|   I'm Not Invisible|\n",
      "|000Silenced|Bounce (Feat NORE...|       MSTRKRFT|         Fist of God|\n",
      "|000Silenced|Don't Stop The Mu...|        Rihanna|Addicted 2 Bassli...|\n",
      "|000Silenced|               ObZen|      Meshuggah|               ObZen|\n",
      "|000Silenced|   Yama's Messengers|         Gojira|The Way of All Flesh|\n",
      "|000Silenced|On the Brink of E...|   Napalm Death|Time Waits For No...|\n",
      "|000Silenced|On the Brink of E...|   Napalm Death|Time Waits For No...|\n",
      "|000Silenced|        In Deference|   Napalm Death|      Smear Campaign|\n",
      "|000Silenced|      Post(?)organic|    Decapitated|Organic Hallucinosis|\n",
      "|000Silenced|        Mind Feeders|   Dom & Roland| No Strings Attached|\n",
      "|000Silenced|Necrosadistic War...|Cannibal Corpse|                Kill|\n",
      "|000Silenced|     Dance All Night|   Dom & Roland|          Chronology|\n",
      "|000Silenced|          Late Night|   Dom & Roland|          Chronology|\n",
      "|000Silenced|          Freak Seen|   Dom & Roland|          Chronology|\n",
      "|000Silenced|Paradrenasite (Hi...|   Dom & Roland|          Chronology|\n",
      "|000Silenced|               Rhino|   Dom & Roland|          Chronology|\n",
      "+-----------+--------------------+---------------+--------------------+\n",
      "only showing top 20 rows\n",
      "\n"
     ]
    }
   ],
   "source": [
    "listening_df.show()"
   ]
  },
  {
   "cell_type": "markdown",
   "metadata": {
    "colab_type": "text",
    "id": "72OpWX7F98qg"
   },
   "source": [
    "Let's inner join these two data frames"
   ]
  },
  {
   "cell_type": "code",
   "execution_count": 21,
   "metadata": {},
   "outputs": [
    {
     "name": "stdout",
     "output_type": "stream",
     "text": [
      "+------------+-----------+--------------------+--------------------+--------------------+\n",
      "|      artist|    user_id|               track|               album|               genre|\n",
      "+------------+-----------+--------------------+--------------------+--------------------+\n",
      "|    Jessie J|000Silenced|           Price Tag|         Who You Are| Ariana Grande & ...|\n",
      "|    Jessie J|000Silenced|           Price Tag|         Who You Are| Jhene Aiko & Rixton|\n",
      "|    Jessie J|000Silenced|           Price Tag|         Who You Are| Nicki Minaj & Ar...|\n",
      "|    Jessie J|000Silenced|           Price Tag|         Who You Are|                 pop|\n",
      "|    Jessie J|000Silenced|Price Tag (Acoust...|           Price Tag| Ariana Grande & ...|\n",
      "|    Jessie J|000Silenced|Price Tag (Acoust...|           Price Tag| Jhene Aiko & Rixton|\n",
      "|    Jessie J|000Silenced|Price Tag (Acoust...|           Price Tag| Nicki Minaj & Ar...|\n",
      "|    Jessie J|000Silenced|Price Tag (Acoust...|           Price Tag|                 pop|\n",
      "|       Robyn|000Silenced|Be Mine! (Ballad ...|            Be Mine!|                 pop|\n",
      "|       Kelis|000Silenced|            Acapella|            Acapella|                 pop|\n",
      "|   The Tease|000Silenced|   I'm Not Invisible|   I'm Not Invisible|             hip hop|\n",
      "|    MSTRKRFT|000Silenced|Bounce (Feat NORE...|         Fist of God|          electronic|\n",
      "|     Rihanna|000Silenced|Don't Stop The Mu...|Addicted 2 Bassli...|                 SZA|\n",
      "|     Rihanna|000Silenced|Don't Stop The Mu...|Addicted 2 Bassli...| Paul McCartney &...|\n",
      "|     Rihanna|000Silenced|Don't Stop The Mu...|Addicted 2 Bassli...|          Kanye West|\n",
      "|     Rihanna|000Silenced|Don't Stop The Mu...|Addicted 2 Bassli...| Kanye West & Pau...|\n",
      "|     Rihanna|000Silenced|Don't Stop The Mu...|Addicted 2 Bassli...|                 pop|\n",
      "|   Meshuggah|000Silenced|               ObZen|               ObZen|               metal|\n",
      "|      Gojira|000Silenced|   Yama's Messengers|The Way of All Flesh|               metal|\n",
      "|Napalm Death|000Silenced|On the Brink of E...|Time Waits For No...|           grindcore|\n",
      "+------------+-----------+--------------------+--------------------+--------------------+\n",
      "only showing top 20 rows\n",
      "\n"
     ]
    }
   ],
   "source": [
    "data = listening_df.join(genre_df, how = 'inner', on=['artist'])\n",
    "data.show()"
   ]
  },
  {
   "cell_type": "code",
   "execution_count": 22,
   "metadata": {},
   "outputs": [
    {
     "name": "stdout",
     "output_type": "stream",
     "text": [
      "+--------------+--------------------+------+\n",
      "|        artist|               genre| count|\n",
      "+--------------+--------------------+------+\n",
      "|       Beyoncé|                 r&b|150250|\n",
      "|    Kanye West|            Big Sean|110846|\n",
      "|    Kanye West|               Jay-Z|110846|\n",
      "|        Eminem|       Royce da 5'9\"| 83295|\n",
      "|   David Bowie|                rock| 64056|\n",
      "|    Kanye West| Rihanna & Paul M...| 55423|\n",
      "|    Kanye West|           Rick Ross| 55423|\n",
      "|    Kanye West|              Common| 55423|\n",
      "|    Kanye West|   Theophilus London| 55423|\n",
      "|    Kanye West| Pusha T & Ghostf...| 55423|\n",
      "|    Kanye West|             hip hop| 55423|\n",
      "|    Kanye West| R Kelly & Teyana...| 55423|\n",
      "|    Kanye West|                 Nas| 55423|\n",
      "|    Kanye West|    Jay-Z & Big Sean| 55423|\n",
      "|    Kanye West|      Kendrick Lamar| 55423|\n",
      "|    Kanye West|         Consequence| 55423|\n",
      "|Arctic Monkeys|                rock| 52428|\n",
      "|   The Beatles|                rock| 52420|\n",
      "|     Radiohead|          Thom Yorke| 47309|\n",
      "|     Radiohead|                rock| 47309|\n",
      "+--------------+--------------------+------+\n",
      "only showing top 20 rows\n",
      "\n"
     ]
    }
   ],
   "source": [
    "q = data.select('artist','genre').groupby('artist','genre').agg(count('*').alias('count')).orderBy(desc('count'))\n",
    "q.show()"
   ]
  },
  {
   "cell_type": "markdown",
   "metadata": {
    "colab_type": "text",
    "id": "yM_f5qILBNeI"
   },
   "source": [
    "**Query #6**\n",
    "\n",
    "find top 10 users who are fan of ***pop*** music"
   ]
  },
  {
   "cell_type": "code",
   "execution_count": 23,
   "metadata": {
    "colab": {},
    "colab_type": "code",
    "id": "dognQVlxBi2n"
   },
   "outputs": [
    {
     "name": "stdout",
     "output_type": "stream",
     "text": [
      "+---------------+-----+-----+\n",
      "|        user_id|genre|count|\n",
      "+---------------+-----+-----+\n",
      "|        01Green|  pop|  496|\n",
      "|          mrpsb|  pop|  400|\n",
      "|      momousagi|  pop|  400|\n",
      "|   BlueKnockOut|  pop|  378|\n",
      "|    musicboy80s|  pop|  376|\n",
      "|  incultojurgis|  pop|  374|\n",
      "| ElektricOrchid|  pop|  370|\n",
      "|foreign_fanatic|  pop|  350|\n",
      "|   Kevin_Soutar|  pop|  346|\n",
      "|  landrover2171|  pop|  301|\n",
      "+---------------+-----+-----+\n",
      "\n"
     ]
    }
   ],
   "source": [
    "q6 = data.select('user_id','genre').filter(data.genre == 'pop').groupby('user_id','genre').agg(count('*').alias('count')).orderBy(desc('count')).limit(10)\n",
    "q6.show()"
   ]
  },
  {
   "cell_type": "markdown",
   "metadata": {
    "colab_type": "text",
    "id": "63quzy7t-zb7"
   },
   "source": [
    "**Query #7**\n",
    "\n",
    "find top 10 famous genres"
   ]
  },
  {
   "cell_type": "code",
   "execution_count": 24,
   "metadata": {
    "colab": {},
    "colab_type": "code",
    "id": "aDFcoPPk-Rhf"
   },
   "outputs": [
    {
     "name": "stdout",
     "output_type": "stream",
     "text": [
      "+----------+-------+\n",
      "|     genre|  count|\n",
      "+----------+-------+\n",
      "|      rock|2691934|\n",
      "|       pop|1544747|\n",
      "|electronic| 551509|\n",
      "|   hip hop| 532984|\n",
      "|      folk| 438174|\n",
      "|indie rock| 431439|\n",
      "|      punk| 380915|\n",
      "|       r&b| 344101|\n",
      "|     metal| 208107|\n",
      "|     indie| 206726|\n",
      "+----------+-------+\n",
      "\n"
     ]
    }
   ],
   "source": [
    "q7 = data.select('genre').groupby('genre').agg(count('genre').alias('count')).orderBy(desc('count')).limit(10)\n",
    "q7.show()"
   ]
  },
  {
   "cell_type": "markdown",
   "metadata": {
    "colab_type": "text",
    "id": "hrZOAWVgLMZo"
   },
   "source": [
    "# Task 5: Visualizing the query results \n",
    "Learn how to visualize our query results using matplotlib \n",
    "\n",
    "\n",
    "\n",
    "**Query #8**\n",
    "\n",
    "find out each user favourite genre"
   ]
  },
  {
   "cell_type": "code",
   "execution_count": null,
   "metadata": {
    "colab": {},
    "colab_type": "code",
    "id": "H3AWxlkbLvCg"
   },
   "outputs": [],
   "source": [
    "q8_1 = data.select('user_id','genre').groupby('user_id','genre').agg(count('*').alias('count')).orderBy('user_id')\n",
    "q8_1.show()"
   ]
  },
  {
   "cell_type": "code",
   "execution_count": null,
   "metadata": {
    "colab": {},
    "colab_type": "code",
    "id": "Soy2bMxQN-Ub"
   },
   "outputs": [],
   "source": [
    "q8_2 = q8_1.groupby('user_id').agg(max(struct(col('count'), col('genre'))).alias('max')).select(col('user_id'),col('max.genre'))\n",
    "q8_2.show()"
   ]
  },
  {
   "cell_type": "markdown",
   "metadata": {
    "colab_type": "text",
    "id": "6oIyhOHkCDuv"
   },
   "source": [
    "**Query #9**\n",
    "\n",
    "find out how many pop,rock,metal and hip hop singers we have\n",
    "\n",
    "and then visulize it using bar chart "
   ]
  },
  {
   "cell_type": "code",
   "execution_count": null,
   "metadata": {
    "colab": {},
    "colab_type": "code",
    "id": "7_lEjNKVCDJv"
   },
   "outputs": [],
   "source": [
    "q9 = genre_df.select(\"genre\").filter((col('genre')=='pop') | (col('genre')=='rock') | (col('genre')=='metal') | (col('genre')=='hip hop')).groupby('genre').agg(count('genre').alias('count'))\n",
    "q9.show()"
   ]
  },
  {
   "cell_type": "markdown",
   "metadata": {
    "colab_type": "text",
    "id": "h0h2SSk8InMH"
   },
   "source": [
    "Now, let's visualize the results using ***matplotlib***"
   ]
  },
  {
   "cell_type": "code",
   "execution_count": null,
   "metadata": {
    "colab": {},
    "colab_type": "code",
    "id": "J-n8gOC0Imj5"
   },
   "outputs": [],
   "source": [
    "q9_list = q9.collect()"
   ]
  },
  {
   "cell_type": "code",
   "execution_count": null,
   "metadata": {
    "colab": {},
    "colab_type": "code",
    "id": "CMigHLrEQgKv"
   },
   "outputs": [],
   "source": [
    "labels = [row['genre'] for row in q9_list]\n",
    "counts = [row['count'] for row in q9_list]"
   ]
  },
  {
   "cell_type": "code",
   "execution_count": null,
   "metadata": {
    "colab": {},
    "colab_type": "code",
    "id": "FYLE4Mbu_Lbu"
   },
   "outputs": [],
   "source": [
    "print(labels)\n",
    "print(counts)"
   ]
  },
  {
   "cell_type": "markdown",
   "metadata": {
    "colab_type": "text",
    "id": "1iDrvEwYQ4AE"
   },
   "source": [
    "now lets visualize these two lists using a bar chart"
   ]
  },
  {
   "cell_type": "code",
   "execution_count": null,
   "metadata": {
    "colab": {},
    "colab_type": "code",
    "id": "XOOq1U9BQjKI"
   },
   "outputs": [],
   "source": [
    "plts.bar(labels, counts)"
   ]
  }
 ],
 "metadata": {
  "colab": {
   "collapsed_sections": [],
   "name": "The_Notebook.ipynb",
   "provenance": []
  },
  "kernelspec": {
   "display_name": "Python 3",
   "language": "python",
   "name": "python3"
  },
  "language_info": {
   "codemirror_mode": {
    "name": "ipython",
    "version": 3
   },
   "file_extension": ".py",
   "mimetype": "text/x-python",
   "name": "python",
   "nbconvert_exporter": "python",
   "pygments_lexer": "ipython3",
   "version": "3.8.10"
  }
 },
 "nbformat": 4,
 "nbformat_minor": 1
}
